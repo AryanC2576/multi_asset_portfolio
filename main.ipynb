from fetch_data import fetch_crypto_prices
from signals import generate_ma_signal
from strategy import compute_volatility, compute_inv_vol_weights, compute_portfolio_returns
from metrics import sharpe_ratio, max_drawdown, annualized_volatility
from plot import plot_cumulative_returns, plot_correlation_heatmap
import os

tickers = ["BTC-USD", "ETH-USD", "SOL-USD"]
prices = fetch_crypto_prices(tickers)
returns = prices.pct_change().dropna()
signals = generate_ma_signal(prices)
volatility = compute_volatility(returns)
weights = compute_inv_vol_weights(volatility, signals)

portfolio_returns = compute_portfolio_returns(returns, weights)
cumulative_portfolio = (1 + portfolio_returns).cumprod()
cumulative_assets = (1 + returns).cumprod()

print("Sharpe:", sharpe_ratio(portfolio_returns))
print("MDD:", max_drawdown(cumulative_portfolio))
print("Volatility:", annualized_volatility(portfolio_returns))

plot_cumulative_returns(cumulative_assets, cumulative_portfolio)
plot_correlation_heatmap(returns)

